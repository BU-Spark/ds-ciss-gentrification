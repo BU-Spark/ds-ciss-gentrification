{
 "cells": [
  {
   "cell_type": "code",
   "execution_count": 1,
   "metadata": {
    "colab": {
     "base_uri": "https://localhost:8080/"
    },
    "id": "lVIhShmm9mEu",
    "outputId": "4b6ce6e0-8a3c-4d8e-fd9f-dda5fa37e8ea"
   },
   "outputs": [
    {
     "name": "stdout",
     "output_type": "stream",
     "text": [
      "Defaulting to user installation because normal site-packages is not writeable\n",
      "Requirement already satisfied: pynytimes in /usr4/ugrad/manavk/.local/lib/python3.8/site-packages (0.8.0)\n",
      "Requirement already satisfied: requests<3.0.0,>=2.10.0 in /share/pkg.7/python3/3.8.10/install/lib/python3.8/site-packages (from pynytimes) (2.25.1)\n",
      "Requirement already satisfied: urllib3 in /share/pkg.7/python3/3.8.10/install/lib/python3.8/site-packages (from pynytimes) (1.26.4)\n",
      "Requirement already satisfied: idna<3,>=2.5 in /share/pkg.7/python3/3.8.10/install/lib/python3.8/site-packages (from requests<3.0.0,>=2.10.0->pynytimes) (2.10)\n",
      "Requirement already satisfied: chardet<5,>=3.0.2 in /share/pkg.7/python3/3.8.10/install/lib/python3.8/site-packages (from requests<3.0.0,>=2.10.0->pynytimes) (4.0.0)\n",
      "Requirement already satisfied: certifi>=2017.4.17 in /share/pkg.7/python3/3.8.10/install/lib/python3.8/site-packages (from requests<3.0.0,>=2.10.0->pynytimes) (2020.12.5)\n",
      "Note: you may need to restart the kernel to use updated packages.\n"
     ]
    }
   ],
   "source": [
    "%pip install pynytimes\n",
    "#!/share/pkg.7/python3/3.8.10/install/bin/python3.8 -m pip install --upgrade pip"
   ]
  },
  {
   "cell_type": "markdown",
   "metadata": {
    "id": "hsfeUE-Tzovj"
   },
   "source": [
    "Cpntext of article (Time and place and people)\n",
    "entity recognition, to pull locations in the article"
   ]
  },
  {
   "cell_type": "code",
   "execution_count": 2,
   "metadata": {
    "id": "lrxI1kmQPXZb"
   },
   "outputs": [],
   "source": [
    "\n",
    "from pynytimes import NYTAPI\n",
    "import pandas as pd\n",
    "from datetime import date\n",
    "\n",
    "api_key = \"\" #insert API key\n",
    "nyt=NYTAPI(key=api_key, parse_dates=True)"
   ]
  },
  {
   "cell_type": "markdown",
   "metadata": {
    "id": "IILxh7LDCumD"
   },
   "source": [
    "Creating lists for variables that are relevant and going through 200 articles, and for any article that is about gentrification, getting all the data and creating a dataframe"
   ]
  },
  {
   "cell_type": "code",
   "execution_count": 11,
   "metadata": {
    "colab": {
     "base_uri": "https://localhost:8080/"
    },
    "id": "b3N9AN3ZCs0H",
    "outputId": "cf13f28c-2da9-4f43-f29a-70efe4424ed9"
   },
   "outputs": [
    {
     "name": "stderr",
     "output_type": "stream",
     "text": [
      "/usr4/ugrad/manavk/.local/lib/python3.8/site-packages/pynytimes/helpers/article_search.py:16: UserWarning: Asking for a lot of results, because of rate limits it can take a while.\n",
      "  warnings.warn(\n"
     ]
    }
   ],
   "source": [
    "#set up empty sets for each field\n",
    "abstracts=[]\n",
    "weburls=[]\n",
    "snippets=[]\n",
    "lead_paragraphs=[]\n",
    "headlines=[]\n",
    "pubdates=[]\n",
    "wordcounts=[]\n",
    "place_keywords=[]\n",
    "people_keywords=[]\n",
    "subject_keywords=[]\n",
    "gentrification_keyword=[]\n",
    "gentrification_headline=[]\n",
    "\n",
    "#get 2000 articles\n",
    "#change this based on start and end date\n",
    "articles = nyt.article_search(query = \"gentrification\",results=2000)"
   ]
  },
  {
   "cell_type": "code",
   "execution_count": 13,
   "metadata": {
    "id": "m5DtH8a8R-J6"
   },
   "outputs": [],
   "source": [
    "#adding the fields for each article to the respective lists\n",
    "for article in articles:\n",
    "    abstracts.append(article['abstract'])\n",
    "    weburls.append(article['web_url'])\n",
    "    snippets.append(article['snippet'])\n",
    "    lead_paragraphs.append(article['lead_paragraph'])\n",
    "    headlines.append(article['headline']['main'])\n",
    "    pubdates.append(article['pub_date'])\n",
    "    wordcounts.append(article['word_count'])\n",
    "\n",
    "\n",
    "    #sorting the keywords and adding to the data frame\n",
    "    keywords=article['keywords']\n",
    "    s=[]\n",
    "    pl=[]\n",
    "    pe=[]\n",
    "    for i in keywords:\n",
    "      if i['name']=='subject':\n",
    "        s.append(i['value'])\n",
    "      elif i['name']=='persons':\n",
    "        pe.append(i['value'])\n",
    "      elif i['name']=='glocations':\n",
    "        pl.append(i['value'])\n",
    "    if pl==[]:\n",
    "      place_keywords.append('NA')\n",
    "    else:\n",
    "      place_keywords.append(pl)\n",
    "    if pe==[]:\n",
    "      people_keywords.append('NA')\n",
    "    else:\n",
    "      people_keywords.append(pe)\n",
    "    if s==[]:\n",
    "      subject_keywords.append('NA')\n",
    "    else:\n",
    "      subject_keywords.append(s)\n",
    "    \n",
    "    \n",
    "#extra field for chcking if gentrification is in the healdine/is a keyword \n",
    "    if 'Gentrification' not in s:\n",
    "      gentrification_keyword.append(False)\n",
    "    else:\n",
    "      gentrification_keyword.append(True)\n",
    "\n",
    "    \n",
    "    if \"gentrification\" in article[\"lead_paragraph\"] or \"gentrification\" in article[\"headline\"]:\n",
    "      gentrification_headline.append(True)\n",
    "    else:\n",
    "      gentrification_headline.append(False)\n",
    "\n",
    "    \n",
    "    "
   ]
  },
  {
   "cell_type": "code",
   "execution_count": 14,
   "metadata": {
    "id": "kI1dMFOQSmFo"
   },
   "outputs": [],
   "source": [
    "#create a dataframe with the required fields\n",
    "data = {'Headlines': headlines,\n",
    "        'Lead paragraph': lead_paragraphs,\n",
    "        'abstract': abstracts,\n",
    "        #'Snippet': snippets,\n",
    "        #'Web Url': weburls,\n",
    "        #\"Publishing date\": pubdates,\n",
    "        #'Word count': wordcounts,\n",
    "        'places':place_keywords,\n",
    "        'people':people_keywords,\n",
    "        'topics':subject_keywords,\n",
    "        'Is gentrification a keyword':gentrification_keyword,\n",
    "        'gentrification in headline or lead para':gentrification_headline}\n",
    "\n",
    "df=pd.DataFrame(data)\n",
    "  "
   ]
  },
  {
   "cell_type": "markdown",
   "metadata": {
    "id": "6qSW8eMpqWGb"
   },
   "source": [
    "entity recognition:\n",
    "  spacee package\n",
    "  https://huggingface.co/spacy/en_core_web_lg\n",
    "  https://huggingface.co/dslim/bert-base-NER\n"
   ]
  },
  {
   "cell_type": "code",
   "execution_count": 15,
   "metadata": {
    "colab": {
     "base_uri": "https://localhost:8080/",
     "height": 866
    },
    "id": "rkOgvIkVCjSJ",
    "outputId": "e46142b0-8e3b-4230-e73b-6a8372b18d93"
   },
   "outputs": [
    {
     "data": {
      "text/html": [
       "<div>\n",
       "<style scoped>\n",
       "    .dataframe tbody tr th:only-of-type {\n",
       "        vertical-align: middle;\n",
       "    }\n",
       "\n",
       "    .dataframe tbody tr th {\n",
       "        vertical-align: top;\n",
       "    }\n",
       "\n",
       "    .dataframe thead th {\n",
       "        text-align: right;\n",
       "    }\n",
       "</style>\n",
       "<table border=\"1\" class=\"dataframe\">\n",
       "  <thead>\n",
       "    <tr style=\"text-align: right;\">\n",
       "      <th></th>\n",
       "      <th>Headlines</th>\n",
       "      <th>Lead paragraph</th>\n",
       "      <th>abstract</th>\n",
       "      <th>places</th>\n",
       "      <th>people</th>\n",
       "      <th>topics</th>\n",
       "      <th>Is gentrification a keyword</th>\n",
       "      <th>gentrification in headline or lead para</th>\n",
       "    </tr>\n",
       "  </thead>\n",
       "  <tbody>\n",
       "    <tr>\n",
       "      <th>0</th>\n",
       "      <td>As Austin’s SoCo District Grows, Is It Losing ...</td>\n",
       "      <td>AUSTIN, Texas — In the early half of the 20th ...</td>\n",
       "      <td>Streets like South Congress Avenue are crucial...</td>\n",
       "      <td>[Austin (Tex)]</td>\n",
       "      <td>NA</td>\n",
       "      <td>[Shopping and Retail, Gentrification, Area Pla...</td>\n",
       "      <td>True</td>\n",
       "      <td>False</td>\n",
       "    </tr>\n",
       "    <tr>\n",
       "      <th>1</th>\n",
       "      <td>Why Harlem Is Getting a Truck Depot Instead of...</td>\n",
       "      <td>The lot on West 145th Street in Manhattan was ...</td>\n",
       "      <td>A developer wanted to build residential towers...</td>\n",
       "      <td>[Harlem (Manhattan, NY)]</td>\n",
       "      <td>[Teitelbaum, Bruce J, Jordan, Kristin Richards...</td>\n",
       "      <td>[Trucks and Trucking, Real Estate and Housing ...</td>\n",
       "      <td>True</td>\n",
       "      <td>False</td>\n",
       "    </tr>\n",
       "    <tr>\n",
       "      <th>2</th>\n",
       "      <td>Must We Gentrify the Rest Stop?</td>\n",
       "      <td>Five years ago, the New York State Thruway Aut...</td>\n",
       "      <td>McDonald’s is gone, and the Manhattanization o...</td>\n",
       "      <td>[Dewey, Thomas E, Thruway, New York State]</td>\n",
       "      <td>NA</td>\n",
       "      <td>[Roads and Traffic, Gentrification, Fast Food ...</td>\n",
       "      <td>True</td>\n",
       "      <td>False</td>\n",
       "    </tr>\n",
       "    <tr>\n",
       "      <th>3</th>\n",
       "      <td>Remaking the River That Remade L.A.</td>\n",
       "      <td>Over the past century it has been channeled, s...</td>\n",
       "      <td>Over the past century it has been channeled, s...</td>\n",
       "      <td>[Los Angeles River (Calif), Los Angeles (Calif...</td>\n",
       "      <td>NA</td>\n",
       "      <td>[Area Planning and Renewal, Gentrification, Fl...</td>\n",
       "      <td>True</td>\n",
       "      <td>False</td>\n",
       "    </tr>\n",
       "    <tr>\n",
       "      <th>4</th>\n",
       "      <td>A Legendary World Builder on Multiverses, Revo...</td>\n",
       "      <td>N.K. Jemisin is a fantasy and science-fiction ...</td>\n",
       "      <td>How the fantasy and science-fiction writer N.K...</td>\n",
       "      <td>NA</td>\n",
       "      <td>[Jemisin, N K]</td>\n",
       "      <td>[audio-neutral-informative, Writing and Writer...</td>\n",
       "      <td>True</td>\n",
       "      <td>False</td>\n",
       "    </tr>\n",
       "    <tr>\n",
       "      <th>...</th>\n",
       "      <td>...</td>\n",
       "      <td>...</td>\n",
       "      <td>...</td>\n",
       "      <td>...</td>\n",
       "      <td>...</td>\n",
       "      <td>...</td>\n",
       "      <td>...</td>\n",
       "      <td>...</td>\n",
       "    </tr>\n",
       "    <tr>\n",
       "      <th>1995</th>\n",
       "      <td>Review: ‘The Last O.G.’ Searches for Brooklyn,...</td>\n",
       "      <td>“The Last O.G.” is a time-travel comedy. It ju...</td>\n",
       "      <td>Tracy Morgan and Tiffany Haddish are well-pair...</td>\n",
       "      <td>NA</td>\n",
       "      <td>[Morgan, Tracy, Haddish, Tiffany, Peele, Jordan]</td>\n",
       "      <td>[Television]</td>\n",
       "      <td>False</td>\n",
       "      <td>False</td>\n",
       "    </tr>\n",
       "    <tr>\n",
       "      <th>1996</th>\n",
       "      <td>Little Italy Is Very Little, and Not Very Italian</td>\n",
       "      <td>On Grand Street, the Banh Mi Saigon Vietnamese...</td>\n",
       "      <td>A fire at the oldest Italian restaurant in the...</td>\n",
       "      <td>[Little Italy (Manhattan, NY)]</td>\n",
       "      <td>NA</td>\n",
       "      <td>[Italian-Americans, Renting and Leasing (Real ...</td>\n",
       "      <td>False</td>\n",
       "      <td>False</td>\n",
       "    </tr>\n",
       "    <tr>\n",
       "      <th>1997</th>\n",
       "      <td>NEIGHBORHOOD REPORT: LOWER MANHATTAN;Rabbi See...</td>\n",
       "      <td>Gone are the days when there was a synagogue o...</td>\n",
       "      <td>Gone are the days when there was a synagogue o...</td>\n",
       "      <td>[New York City, Lower East Side (NYC)]</td>\n",
       "      <td>[Spiegel, Jacob]</td>\n",
       "      <td>[JEWS, Historic Buildings and Sites, RESTORATI...</td>\n",
       "      <td>False</td>\n",
       "      <td>False</td>\n",
       "    </tr>\n",
       "    <tr>\n",
       "      <th>1998</th>\n",
       "      <td>The National Crackup</td>\n",
       "      <td>I never cared for the “melting pot” metaphor, ...</td>\n",
       "      <td>We are retreating to our tribal, ethnic and pr...</td>\n",
       "      <td>NA</td>\n",
       "      <td>[Trump, Donald J, Obama, Barack]</td>\n",
       "      <td>[Race and Ethnicity, Discrimination, United St...</td>\n",
       "      <td>False</td>\n",
       "      <td>False</td>\n",
       "    </tr>\n",
       "    <tr>\n",
       "      <th>1999</th>\n",
       "      <td>SoHa in Harlem? The Misguided Madness of Neigh...</td>\n",
       "      <td>During any other summer, one in which the news...</td>\n",
       "      <td>Real-estate interests are hoping to rename a p...</td>\n",
       "      <td>[Harlem (Manhattan, NY), New York City]</td>\n",
       "      <td>NA</td>\n",
       "      <td>[Blacks, Black People, Real Estate and Housing...</td>\n",
       "      <td>False</td>\n",
       "      <td>False</td>\n",
       "    </tr>\n",
       "  </tbody>\n",
       "</table>\n",
       "<p>2000 rows × 8 columns</p>\n",
       "</div>"
      ],
      "text/plain": [
       "                                              Headlines  \\\n",
       "0     As Austin’s SoCo District Grows, Is It Losing ...   \n",
       "1     Why Harlem Is Getting a Truck Depot Instead of...   \n",
       "2                       Must We Gentrify the Rest Stop?   \n",
       "3                   Remaking the River That Remade L.A.   \n",
       "4     A Legendary World Builder on Multiverses, Revo...   \n",
       "...                                                 ...   \n",
       "1995  Review: ‘The Last O.G.’ Searches for Brooklyn,...   \n",
       "1996  Little Italy Is Very Little, and Not Very Italian   \n",
       "1997  NEIGHBORHOOD REPORT: LOWER MANHATTAN;Rabbi See...   \n",
       "1998                               The National Crackup   \n",
       "1999  SoHa in Harlem? The Misguided Madness of Neigh...   \n",
       "\n",
       "                                         Lead paragraph  \\\n",
       "0     AUSTIN, Texas — In the early half of the 20th ...   \n",
       "1     The lot on West 145th Street in Manhattan was ...   \n",
       "2     Five years ago, the New York State Thruway Aut...   \n",
       "3     Over the past century it has been channeled, s...   \n",
       "4     N.K. Jemisin is a fantasy and science-fiction ...   \n",
       "...                                                 ...   \n",
       "1995  “The Last O.G.” is a time-travel comedy. It ju...   \n",
       "1996  On Grand Street, the Banh Mi Saigon Vietnamese...   \n",
       "1997  Gone are the days when there was a synagogue o...   \n",
       "1998  I never cared for the “melting pot” metaphor, ...   \n",
       "1999  During any other summer, one in which the news...   \n",
       "\n",
       "                                               abstract  \\\n",
       "0     Streets like South Congress Avenue are crucial...   \n",
       "1     A developer wanted to build residential towers...   \n",
       "2     McDonald’s is gone, and the Manhattanization o...   \n",
       "3     Over the past century it has been channeled, s...   \n",
       "4     How the fantasy and science-fiction writer N.K...   \n",
       "...                                                 ...   \n",
       "1995  Tracy Morgan and Tiffany Haddish are well-pair...   \n",
       "1996  A fire at the oldest Italian restaurant in the...   \n",
       "1997  Gone are the days when there was a synagogue o...   \n",
       "1998  We are retreating to our tribal, ethnic and pr...   \n",
       "1999  Real-estate interests are hoping to rename a p...   \n",
       "\n",
       "                                                 places  \\\n",
       "0                                        [Austin (Tex)]   \n",
       "1                              [Harlem (Manhattan, NY)]   \n",
       "2            [Dewey, Thomas E, Thruway, New York State]   \n",
       "3     [Los Angeles River (Calif), Los Angeles (Calif...   \n",
       "4                                                    NA   \n",
       "...                                                 ...   \n",
       "1995                                                 NA   \n",
       "1996                     [Little Italy (Manhattan, NY)]   \n",
       "1997             [New York City, Lower East Side (NYC)]   \n",
       "1998                                                 NA   \n",
       "1999            [Harlem (Manhattan, NY), New York City]   \n",
       "\n",
       "                                                 people  \\\n",
       "0                                                    NA   \n",
       "1     [Teitelbaum, Bruce J, Jordan, Kristin Richards...   \n",
       "2                                                    NA   \n",
       "3                                                    NA   \n",
       "4                                        [Jemisin, N K]   \n",
       "...                                                 ...   \n",
       "1995   [Morgan, Tracy, Haddish, Tiffany, Peele, Jordan]   \n",
       "1996                                                 NA   \n",
       "1997                                   [Spiegel, Jacob]   \n",
       "1998                   [Trump, Donald J, Obama, Barack]   \n",
       "1999                                                 NA   \n",
       "\n",
       "                                                 topics  \\\n",
       "0     [Shopping and Retail, Gentrification, Area Pla...   \n",
       "1     [Trucks and Trucking, Real Estate and Housing ...   \n",
       "2     [Roads and Traffic, Gentrification, Fast Food ...   \n",
       "3     [Area Planning and Renewal, Gentrification, Fl...   \n",
       "4     [audio-neutral-informative, Writing and Writer...   \n",
       "...                                                 ...   \n",
       "1995                                       [Television]   \n",
       "1996  [Italian-Americans, Renting and Leasing (Real ...   \n",
       "1997  [JEWS, Historic Buildings and Sites, RESTORATI...   \n",
       "1998  [Race and Ethnicity, Discrimination, United St...   \n",
       "1999  [Blacks, Black People, Real Estate and Housing...   \n",
       "\n",
       "      Is gentrification a keyword  gentrification in headline or lead para  \n",
       "0                            True                                    False  \n",
       "1                            True                                    False  \n",
       "2                            True                                    False  \n",
       "3                            True                                    False  \n",
       "4                            True                                    False  \n",
       "...                           ...                                      ...  \n",
       "1995                        False                                    False  \n",
       "1996                        False                                    False  \n",
       "1997                        False                                    False  \n",
       "1998                        False                                    False  \n",
       "1999                        False                                    False  \n",
       "\n",
       "[2000 rows x 8 columns]"
      ]
     },
     "execution_count": 15,
     "metadata": {},
     "output_type": "execute_result"
    }
   ],
   "source": [
    "df"
   ]
  },
  {
   "cell_type": "code",
   "execution_count": 17,
   "metadata": {
    "id": "0cWDT2ClD8Qb"
   },
   "outputs": [],
   "source": [
    "df.to_csv('NYT_data.csv')"
   ]
  },
  {
   "cell_type": "code",
   "execution_count": null,
   "metadata": {
    "id": "-rYcvWZuJ_Ql"
   },
   "outputs": [],
   "source": []
  }
 ],
 "metadata": {
  "colab": {
   "provenance": []
  },
  "kernelspec": {
   "display_name": "Python 3",
   "language": "python",
   "name": "python3"
  },
  "language_info": {
   "codemirror_mode": {
    "name": "ipython",
    "version": 3
   },
   "file_extension": ".py",
   "mimetype": "text/x-python",
   "name": "python",
   "nbconvert_exporter": "python",
   "pygments_lexer": "ipython3",
   "version": "3.8.10"
  }
 },
 "nbformat": 4,
 "nbformat_minor": 1
}
